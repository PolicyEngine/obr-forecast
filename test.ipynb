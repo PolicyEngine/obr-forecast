{
 "cells": [
  {
   "cell_type": "code",
   "execution_count": 32,
   "metadata": {},
   "outputs": [
    {
     "name": "stdout",
     "output_type": "stream",
     "text": [
      "year: 2026, cumulative_earnings_growth: 1\n",
      "year: 2027, cumulative_earnings_growth: 1.02\n",
      "year: 2028, cumulative_earnings_growth: 1.0404\n",
      "year: 2029, cumulative_earnings_growth: 1.061208\n",
      "year: 2030, cumulative_earnings_growth: 1.08243216\n"
     ]
    }
   ],
   "source": [
    "from policyengine import Simulation\n",
    "import pandas as pd\n",
    "import numpy as np\n",
    "from microdf import MicroDataFrame\n",
    "\n",
    "START_YEAR = 2026\n",
    "COUNT_YEARS = 5\n",
    "FORECAST_YEARS = list(range(START_YEAR, START_YEAR + COUNT_YEARS))\n",
    "\n",
    "GROWFACTORS = {\n",
    "    \"earned_income\": {\n",
    "        2026: 0.02,\n",
    "        2027: 0.02,\n",
    "        2028: 0.02,\n",
    "        2029: 0.02,\n",
    "        2030: 0.02,\n",
    "    },\n",
    "    \"mixed_income\": {\n",
    "        2026: 0.02,\n",
    "        2027: 0.02,\n",
    "        2028: 0.02,\n",
    "        2029: 0.02,\n",
    "        2030: 0.02,\n",
    "    },\n",
    "    \"capital_income\": {\n",
    "        2026: 0.02,\n",
    "        2027: 0.02,\n",
    "        2028: 0.02,\n",
    "        2029: 0.02,\n",
    "        2030: 0.02,\n",
    "    },\n",
    "    \"inflation\": {\n",
    "        2026: 0.02,\n",
    "        2027: 0.02,\n",
    "        2028: 0.02,\n",
    "        2029: 0.02,\n",
    "        2030: 0.02,\n",
    "    },\n",
    "}\n",
    "\n",
    "\n",
    "def get_cumulative_growth(base_year: int, target_year: int, growth_rates: dict) -> float:\n",
    "    cumulative_growth = 1\n",
    "    for year in range(base_year + 1, target_year + 1):\n",
    "        cumulative_growth *= (1 + growth_rates[year])\n",
    "    return cumulative_growth\n",
    "\n",
    "subsample = None\n",
    "growfactors = GROWFACTORS\n",
    "\n",
    "simulation = Simulation(\n",
    "    country=\"uk\",\n",
    "    scope=\"macro\",\n",
    "    subsample=subsample,\n",
    ").baseline_simulation\n",
    "\n",
    "for year in FORECAST_YEARS:\n",
    "    # Update household data\n",
    "    cumulative_earnings_growth = get_cumulative_growth(START_YEAR, year, growfactors[\"earned_income\"])\n",
    "    print(f\"year: {year}, cumulative_earnings_growth: {cumulative_earnings_growth}\")\n",
    "    simulation.set_input(\n",
    "        \"employment_income\",\n",
    "        year,\n",
    "        simulation.calculate(\"employment_income\", START_YEAR) * get_cumulative_growth(START_YEAR, year, growfactors[\"earned_income\"]),\n",
    "    )\n",
    "    simulation.set_input(\n",
    "        \"self_employment_income\",\n",
    "        year,\n",
    "        simulation.calculate(\"self_employment_income\", START_YEAR) * get_cumulative_growth(START_YEAR, year, growfactors[\"mixed_income\"]),\n",
    "    )\n",
    "    simulation.set_input(\n",
    "        \"dividend_income\",\n",
    "        year,\n",
    "        simulation.calculate(\"dividend_income\", START_YEAR) * get_cumulative_growth(START_YEAR, year, growfactors[\"capital_income\"]),\n",
    "    )\n",
    "    simulation.set_input(\n",
    "        \"consumption\",\n",
    "        year,\n",
    "        simulation.calculate(\"consumption\", START_YEAR) * get_cumulative_growth(START_YEAR, year, growfactors[\"inflation\"]),\n",
    "    )\n",
    "\n",
    "    # Update government policy parameters\n",
    "    cpi_parameter = simulation.tax_benefit_system.parameters.gov.obr.consumer_price_index\n",
    "    cpi_parameter.update(\n",
    "        period=f\"year:{year}:1\",\n",
    "        value=cpi_parameter(2025) * get_cumulative_growth(2025, year, growfactors[\"inflation\"]),\n",
    "    )\n",
    "\n",
    "\n",
    "df = pd.DataFrame()\n",
    "for year in range(2025, START_YEAR + COUNT_YEARS):\n",
    "    year_df = simulation.calculate_dataframe([\n",
    "        \"household_id\",\n",
    "        \"household_weight\",\n",
    "        \"household_count_people\",\n",
    "        \"household_income_decile\",\n",
    "        \"household_net_income\",\n",
    "        \"employment_income\",\n",
    "        \"self_employment_income\",\n",
    "        \"dividend_income\",\n",
    "        \"consumption\",\n",
    "        \"in_poverty\",\n",
    "    ], period=year).reset_index()\n",
    "    year_df[\"year\"] = year\n",
    "    df = pd.concat([\n",
    "        df,\n",
    "        year_df,\n",
    "    ])\n",
    "\n"
   ]
  },
  {
   "cell_type": "code",
   "execution_count": 33,
   "metadata": {},
   "outputs": [],
   "source": [
    "from microdf import MicroDataFrame\n",
    "\n",
    "df = MicroDataFrame(df, weights=\"household_weight\")"
   ]
  },
  {
   "cell_type": "code",
   "execution_count": 34,
   "metadata": {},
   "outputs": [
    {
     "data": {
      "text/plain": [
       "year\n",
       "2025    1.589477e+12\n",
       "2026    1.642204e+12\n",
       "2027    1.688124e+12\n",
       "2028    1.732616e+12\n",
       "2029    1.776034e+12\n",
       "2030    1.805807e+12\n",
       "dtype: float64"
      ]
     },
     "execution_count": 34,
     "metadata": {},
     "output_type": "execute_result"
    }
   ],
   "source": [
    "df.groupby(\"year\").household_net_income.sum()"
   ]
  }
 ],
 "metadata": {
  "kernelspec": {
   "display_name": ".venv",
   "language": "python",
   "name": "python3"
  },
  "language_info": {
   "codemirror_mode": {
    "name": "ipython",
    "version": 3
   },
   "file_extension": ".py",
   "mimetype": "text/x-python",
   "name": "python",
   "nbconvert_exporter": "python",
   "pygments_lexer": "ipython3",
   "version": "3.11.11"
  }
 },
 "nbformat": 4,
 "nbformat_minor": 2
}
